{
 "cells": [
  {
   "cell_type": "code",
   "execution_count": 1,
   "metadata": {},
   "outputs": [],
   "source": [
    "import numpy as np\n",
    "import pandas as pd\n",
    "from tqdm import tqdm\n",
    "from os import listdir\n",
    "from os.path import isfile, join\n",
    "from natsort import natsorted"
   ]
  },
  {
   "cell_type": "code",
   "execution_count": null,
   "metadata": {},
   "outputs": [],
   "source": [
    "# 1 - 6 Wells\n",
    "for w in tqdm(range(1, 7)):\n",
    "    \n",
    "    dir_path = 'genotyping_results/well_' + str(w) + '/Cell_Genotype'\n",
    "\n",
    "    onlyfiles = [f for f in listdir(dir_path) if isfile(join(dir_path, f)) and f.endswith('.csv')]\n",
    "    \n",
    "    for i, file in tqdm(enumerate(onlyfiles)):\n",
    "\n",
    "        if i == 0:\n",
    "            df_concat = pd.read_csv(path_csv)\n",
    "\n",
    "        if i > 0:\n",
    "            df = pd.read_csv(path_csv)\n",
    "            df_concat = pd.concat((df_concat, df))\n",
    "\n",
    "print(df_concat.shape)"
   ]
  }
 ],
 "metadata": {
  "kernelspec": {
   "display_name": "Python 3 (ipykernel)",
   "language": "python",
   "name": "python3"
  },
  "language_info": {
   "codemirror_mode": {
    "name": "ipython",
    "version": 3
   },
   "file_extension": ".py",
   "mimetype": "text/x-python",
   "name": "python",
   "nbconvert_exporter": "python",
   "pygments_lexer": "ipython3",
   "version": "3.9.12"
  }
 },
 "nbformat": 4,
 "nbformat_minor": 4
}
