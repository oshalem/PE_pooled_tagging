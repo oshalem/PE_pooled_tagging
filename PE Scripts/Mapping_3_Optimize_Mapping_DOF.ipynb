{
 "cells": [
  {
   "cell_type": "code",
   "execution_count": 3,
   "metadata": {},
   "outputs": [],
   "source": [
    "import Mapping_Functions as mf\n",
    "import numpy as np\n",
    "import pandas as pd\n",
    "import matplotlib.pyplot as plt\n",
    "from os.path import join\n",
    "from pims_nd2 import ND2_Reader as nd2_opener"
   ]
  },
  {
   "cell_type": "code",
   "execution_count": 40,
   "metadata": {},
   "outputs": [],
   "source": [
    "well = 6\n",
    "\n",
    "if well == 1:   \n",
    "    p_10X = np.array([[10, 929, 915], [160, 1174, 901], [170, 1159, 1318], [180, 1602, 1080], [360, 1281, 1612]])\n",
    "    p_40X = np.array([[149, 490, 1110], [2792, 552, 172], [2752, 1492, 1815], [2713, 1941, 865], [5838, 1867, 1892]])\n",
    "\n",
    "if well == 2: \n",
    "    p_10X = np.array([[10, 837, 1150],  [160, 1576, 1250], [170, 1022, 1157], [180, 1336, 1336], [360, 1277, 1661]])\n",
    "    p_40X = np.array([[149, 140, 2063], [2792, 2163, 1572], [2752, 971, 1197], [2713, 911, 1895], [5838, 1887, 2093]])\n",
    "\n",
    "if well == 3:\n",
    "    p_10X = np.array([[10, 959, 725], [160, 1135, 1080], [170, 1222, 1001], [180, 1246, 1312], [360, 1169, 1406]])\n",
    "    p_40X = np.array([[149, 654, 372], [2792, 446, 904], [2752, 1791, 574], [2713, 574, 1795], [5838, 1468, 1094]])\n",
    "    \n",
    "if well == 4:\n",
    "    p_10X = np.array([[10, 1094, 1056], [160, 1392, 1309], [170, 913, 1268], [180, 1463, 1429], [360, 1305, 1408]])\n",
    "    p_40X = np.array([[149, 1189, 1710], [2792, 1461, 1841], [2752, 557, 1658], [2713, 1432, 2276], [5838, 1989, 1120]])\n",
    "    \n",
    "if well == 5:\n",
    "    p_10X = np.array([[10, 1200, 829], [160, 1114, 1118], [170, 1204, 1267], [180, 1409, 1336], [360, 878, 1532]])\n",
    "    p_40X = np.array([[149, 1614, 806], [2792, 358, 1070], [2752, 1706, 1644], [2713, 1216, 1901], [5838, 303, 1605]])\n",
    "    \n",
    "if well == 6:\n",
    "    p_10X = np.array([[10, 1100, 952], [160, 1377, 1070], [170, 1131, 1194], [180, 1498, 1347], [352, 1132, 1309]])\n",
    "    p_40X = np.array([[149, 1209, 1276], [2792, 1393, 878], [2752, 1414, 1345], [2713, 1563, 1929], [5707, 1395, 813]])"
   ]
  },
  {
   "cell_type": "code",
   "execution_count": 41,
   "metadata": {},
   "outputs": [
    {
     "name": "stdout",
     "output_type": "stream",
     "text": [
      " message: Optimization terminated successfully\n",
      " success: True\n",
      "  status: 0\n",
      "     fun: 31.196447552855275\n",
      "       x: [ 1.231e+03 -2.851e+01  1.378e-02  3.957e+00  3.957e+00]\n",
      "     nit: 13\n",
      "     jac: [ 4.788e-03  1.006e-03  1.359e+00  3.082e+00  1.381e+01]\n",
      "    nfev: 111\n",
      "    njev: 13\n",
      "Pixel Errors (X,Y)\n",
      "Point  0 [-3, -1]\n",
      "Point  1 [3, 2]\n",
      "Point  2 [-1, 0]\n",
      "Point  3 [3, 0]\n",
      "Point  4 [-2, -1]\n",
      "[ 1.23147162e+03 -2.85139357e+01  1.37829851e-02  3.95668964e+00\n",
      "  3.95719910e+00]\n"
     ]
    }
   ],
   "source": [
    "M_10X = np.load('M_10X.npy')\n",
    "M_40X = np.load('M_40X.npy')\n",
    "\n",
    "P_10X = mf.Local_to_Global(p_10X, M_10X, [2304, 2304])\n",
    "P_40X = mf.Local_to_Global(p_40X, M_40X, [2304, 2304])\n",
    "DOF = mf.Fit_By_Points(P_10X, P_40X, verbose=True)\n",
    "\n",
    "print(DOF)"
   ]
  },
  {
   "cell_type": "code",
   "execution_count": null,
   "metadata": {},
   "outputs": [],
   "source": []
  }
 ],
 "metadata": {
  "kernelspec": {
   "display_name": "Python 3 (ipykernel)",
   "language": "python",
   "name": "python3"
  },
  "language_info": {
   "codemirror_mode": {
    "name": "ipython",
    "version": 3
   },
   "file_extension": ".py",
   "mimetype": "text/x-python",
   "name": "python",
   "nbconvert_exporter": "python",
   "pygments_lexer": "ipython3",
   "version": "3.10.4"
  }
 },
 "nbformat": 4,
 "nbformat_minor": 4
}
